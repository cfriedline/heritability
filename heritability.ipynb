{
 "cells": [
  {
   "cell_type": "markdown",
   "metadata": {},
   "source": [
    "# Demonstration of phenotypic traits\n",
    "\n",
    "## Setup\n",
    "\n",
    "This section sets up imports and methods that we need to run the simulations."
   ]
  },
  {
   "cell_type": "code",
   "execution_count": 0,
   "metadata": {
    "ExecuteTime": {},
    "collapsed": false
   },
   "outputs": [],
   "source": [
    "import numpy as np\n",
    "import scipy as sp\n",
    "import pandas as pd\n",
    "import statsmodels as sm\n",
    "import matplotlib.pyplot as plt\n",
    "%matplotlib inline\n",
    "%config InlineBackend.figure_format = 'retina'\n",
    "import seaborn as sns\n",
    "sns.set_style(\"white\")\n",
    "sns.set_context(\"talk\", font_scale=1.5)"
   ]
  },
  {
   "cell_type": "code",
   "execution_count": 0,
   "metadata": {
    "ExecuteTime": {},
    "collapsed": false
   },
   "outputs": [],
   "source": [
    "def generate_population(n, u, s, cutoff, direction):    \n",
    "    loc = u\n",
    "    scale = s\n",
    "    parent_heights = sp.random.normal(loc=loc, scale=scale, size=n)\n",
    "    cutoff = pd.Series(cutoff)\n",
    "    minn = np.min(cutoff)\n",
    "    maxx = np.max(cutoff)\n",
    "    selected_parents = {\"lt\": parent_heights[parent_heights < minn], \n",
    "                        \"gt\": parent_heights[parent_heights > minn],\n",
    "                        \"ge\": parent_heights[parent_heights >= minn],\n",
    "                        \"le\": parent_heights[parent_heights <= minn],\n",
    "                        \"ne\": parent_heights[parent_heights != minn],\n",
    "                        \"le_ge\": parent_heights[(parent_heights <= minn) | (parent_heights >= maxx)],\n",
    "                        \"lt_gt\": parent_heights[(parent_heights < minn) | (parent_heights > maxx)]}[direction]\n",
    "    return parent_heights, selected_parents, cutoff\n",
    "\n",
    "def plot_hist(d, label):\n",
    "    plt.hist(d, alpha=0.5, label=label)\n",
    "    sns.despine()\n",
    "    \n",
    "    \n",
    "def offspring_height(x):\n",
    "        d = sp.random.uniform(0, 0.2)\n",
    "        if sp.random.random() < 0.5:\n",
    "            return x - x*d\n",
    "        else:\n",
    "            return x + x*d\n",
    "    \n",
    "def get_offspring(h, selected_parents):\n",
    "    h2 = h\n",
    "    offspring_heights = []\n",
    "\n",
    "    for p in selected_parents:\n",
    "        r = sp.random.random()\n",
    "        if r < h2:\n",
    "            offspring_heights.append(offspring_height(p))\n",
    "        else:\n",
    "            offspring_heights.append(sp.random.normal(scale=scale, loc=loc))\n",
    "    \n",
    "    return offspring_heights"
   ]
  },
  {
   "cell_type": "markdown",
   "metadata": {},
   "source": [
    "## Generate and select parents\n",
    "\n",
    "The idea behind this experiment is to explore the relationships between $R$, $S$, and $h^2$ (narrow-sense heritability).  You will recall that:\n",
    "\n",
    "* $R = h^2S$   \n",
    "* $V_G = V_A + V_D + V_I$\n",
    "* $V_P = V_G + V_E$\n",
    "\n",
    "Here's what we'll do:\n",
    "\n",
    "1. Create a theoretical population of $N$ individuals having some distribution of traits (a mean $\\pm$ a standard deviation)\n",
    "1. Define some cutoff for selection (e.g., only breed large individuals)"
   ]
  },
  {
   "cell_type": "code",
   "execution_count": 0,
   "metadata": {
    "ExecuteTime": {},
    "collapsed": false
   },
   "outputs": [],
   "source": [
    "num = 20000\n",
    "loc = 50\n",
    "scale = 15\n",
    "cutoff = [10,80]\n",
    "direction = \"lt_gt\" # \"lt\", \"gt\", \"ge\", \"le\", \"ne\", \"lt_gt\", \"le_ge\"\n",
    "\n",
    "parent_heights, selected_parents, cutoff = generate_population(num, loc, scale, cutoff, direction)\n",
    "\n",
    "plot_hist(parent_heights, \"All parents ($\\mu=%.2f \\pm %.3f$)\" % (np.mean(parent_heights), np.std(parent_heights)))\n",
    "plot_hist(selected_parents, \"Selected parents ($\\mu=%.2f$)\" % np.mean(selected_parents))\n",
    "plt.title(\"Selected %d out of %d for breeding\" % (len(selected_parents), len(parent_heights)))\n",
    "plt.legend(loc=2);"
   ]
  },
  {
   "cell_type": "markdown",
   "metadata": {},
   "source": [
    "## 1. Given heritibility of our trait, simulate offspring\n",
    "\n",
    "## 2. Determine relationship between parents (selected) and their offspring"
   ]
  },
  {
   "cell_type": "code",
   "execution_count": 0,
   "metadata": {
    "ExecuteTime": {},
    "collapsed": false
   },
   "outputs": [],
   "source": [
    "offspring_heights = get_offspring(0.7, selected_parents)\n",
    "reg = sp.stats.linregress(selected_parents, offspring_heights)\n",
    "slope, intercept, r_value, p_value, std_err = reg\n",
    "plt.scatter(selected_parents, offspring_heights)\n",
    "plt.xlabel(\"Parent height (cm)\")\n",
    "plt.ylabel(\"Offpring height (cm)\")\n",
    "plt.title(\"y=%.5fx + %.5f ($r^2$ = %.2f, $p$ = %.5f), n=%d\" % (slope, \n",
    "                                                         intercept, \n",
    "                                                         r_value**2,\n",
    "                                                         p_value,\n",
    "                                                         len(offspring_heights)))\n",
    "plt.plot(parent_heights, parent_heights*slope+intercept, 'r-')\n",
    "sns.despine()\n",
    "plt.show()"
   ]
  },
  {
   "cell_type": "markdown",
   "metadata": {},
   "source": [
    "# $R = h^2S$"
   ]
  },
  {
   "cell_type": "code",
   "execution_count": 0,
   "metadata": {
    "ExecuteTime": {},
    "collapsed": false
   },
   "outputs": [],
   "source": [
    "S = np.mean(selected_parents) - np.mean(parent_heights)\n",
    "S"
   ]
  },
  {
   "cell_type": "code",
   "execution_count": 0,
   "metadata": {
    "ExecuteTime": {},
    "collapsed": false
   },
   "outputs": [],
   "source": [
    "R = slope*S\n",
    "R"
   ]
  },
  {
   "cell_type": "code",
   "execution_count": 0,
   "metadata": {
    "ExecuteTime": {},
    "collapsed": false
   },
   "outputs": [],
   "source": [
    "new_mean = np.mean(parent_heights) + R\n",
    "new_mean"
   ]
  },
  {
   "cell_type": "code",
   "execution_count": 0,
   "metadata": {
    "ExecuteTime": {},
    "collapsed": false
   },
   "outputs": [],
   "source": [
    "plot_hist(parent_heights, \"All parents ($\\mu=%.2f$)\" % np.mean(parent_heights))\n",
    "plot_hist(selected_parents, \"Selected parents ($\\mu=%.2f$)\" % np.mean(selected_parents))\n",
    "plot_hist(offspring_heights, \"F1 ($\\mu=%.2f$)\" % np.mean(offspring_heights))\n",
    "plt.axvline(np.mean(parent_heights), label=\"Parent mean\", color=\"blue\", alpha=0.5)\n",
    "plt.axvline(np.mean(offspring_heights), label=\"F1 mean\", color=\"red\", alpha=0.5)\n",
    "plt.legend(loc=2);"
   ]
  },
  {
   "cell_type": "code",
   "execution_count": 0,
   "metadata": {
    "collapsed": true
   },
   "outputs": [],
   "source": []
  }
 ],
 "metadata": {
  "gist_id": "96f92cef075385ea4d55",
  "kernelspec": {
   "display_name": "Python 3",
   "language": "python",
   "name": "python3"
  },
  "language_info": {
   "codemirror_mode": {
    "name": "ipython",
    "version": 3
   },
   "file_extension": ".py",
   "mimetype": "text/x-python",
   "name": "python",
   "nbconvert_exporter": "python",
   "pygments_lexer": "ipython3",
   "version": "3.4.4"
  }
 },
 "nbformat": 4,
 "nbformat_minor": 0
}
